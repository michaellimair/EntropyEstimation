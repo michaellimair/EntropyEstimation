{
 "cells": [
  {
   "cell_type": "code",
   "execution_count": 1,
   "metadata": {},
   "outputs": [],
   "source": [
    "import numpy as np\n",
    "import pandas as pd\n",
    "import matplotlib.pyplot as plt\n",
    "from sklearn import preprocessing\n",
    "import math"
   ]
  },
  {
   "cell_type": "code",
   "execution_count": 2,
   "metadata": {},
   "outputs": [],
   "source": [
    "mu1 = 10\n",
    "sigma1 = 10"
   ]
  },
  {
   "cell_type": "code",
   "execution_count": 6,
   "metadata": {},
   "outputs": [],
   "source": [
    "s1 = np.random.normal(mu1, sigma1, 100000)\n",
    "hist1 = np.histogram(s1, bins=math.ceil(math.sqrt(len(s1))), range=(-10,10), density=True)"
   ]
  },
  {
   "cell_type": "code",
   "execution_count": 9,
   "metadata": {},
   "outputs": [
    {
     "data": {
      "text/plain": [
       "(array([1.000e+00, 2.000e+00, 0.000e+00, 0.000e+00, 0.000e+00, 0.000e+00,\n",
       "        0.000e+00, 0.000e+00, 0.000e+00, 1.000e+00, 1.000e+00, 1.000e+00,\n",
       "        0.000e+00, 0.000e+00, 0.000e+00, 3.000e+00, 0.000e+00, 0.000e+00,\n",
       "        1.000e+00, 1.000e+00, 3.000e+00, 4.000e+00, 2.000e+00, 2.000e+00,\n",
       "        4.000e+00, 3.000e+00, 1.000e+00, 0.000e+00, 0.000e+00, 2.000e+00,\n",
       "        6.000e+00, 7.000e+00, 8.000e+00, 7.000e+00, 4.000e+00, 3.000e+00,\n",
       "        3.000e+00, 7.000e+00, 7.000e+00, 7.000e+00, 7.000e+00, 1.200e+01,\n",
       "        4.000e+00, 1.300e+01, 1.500e+01, 1.600e+01, 7.000e+00, 1.400e+01,\n",
       "        2.000e+01, 2.200e+01, 1.900e+01, 2.800e+01, 2.300e+01, 2.400e+01,\n",
       "        2.900e+01, 1.900e+01, 2.700e+01, 4.200e+01, 3.700e+01, 3.800e+01,\n",
       "        4.000e+01, 5.000e+01, 5.800e+01, 5.200e+01, 5.400e+01, 6.300e+01,\n",
       "        6.500e+01, 6.700e+01, 7.700e+01, 9.400e+01, 8.600e+01, 1.050e+02,\n",
       "        1.030e+02, 1.190e+02, 8.800e+01, 1.040e+02, 1.150e+02, 1.190e+02,\n",
       "        1.290e+02, 1.480e+02, 1.500e+02, 1.570e+02, 1.630e+02, 1.510e+02,\n",
       "        2.020e+02, 2.070e+02, 2.360e+02, 2.190e+02, 2.390e+02, 2.470e+02,\n",
       "        2.560e+02, 2.550e+02, 2.840e+02, 3.010e+02, 3.170e+02, 3.340e+02,\n",
       "        3.300e+02, 3.510e+02, 3.990e+02, 3.780e+02, 4.000e+02, 4.100e+02,\n",
       "        4.530e+02, 4.550e+02, 4.590e+02, 4.920e+02, 5.080e+02, 5.220e+02,\n",
       "        5.320e+02, 5.690e+02, 6.400e+02, 6.160e+02, 5.850e+02, 6.570e+02,\n",
       "        6.300e+02, 6.820e+02, 7.480e+02, 6.990e+02, 7.190e+02, 7.930e+02,\n",
       "        7.740e+02, 8.350e+02, 8.830e+02, 8.230e+02, 8.540e+02, 8.450e+02,\n",
       "        8.950e+02, 9.020e+02, 8.700e+02, 9.520e+02, 9.530e+02, 9.390e+02,\n",
       "        9.580e+02, 9.300e+02, 9.590e+02, 1.022e+03, 9.820e+02, 1.047e+03,\n",
       "        1.115e+03, 1.030e+03, 1.051e+03, 1.072e+03, 1.101e+03, 1.151e+03,\n",
       "        1.094e+03, 1.062e+03, 1.147e+03, 1.101e+03, 1.046e+03, 1.119e+03,\n",
       "        1.133e+03, 1.091e+03, 1.109e+03, 1.122e+03, 1.090e+03, 1.084e+03,\n",
       "        1.152e+03, 1.042e+03, 1.104e+03, 1.087e+03, 1.108e+03, 1.072e+03,\n",
       "        1.066e+03, 1.063e+03, 1.043e+03, 1.074e+03, 9.940e+02, 1.045e+03,\n",
       "        9.780e+02, 9.800e+02, 1.002e+03, 9.270e+02, 9.010e+02, 9.180e+02,\n",
       "        8.670e+02, 9.780e+02, 9.190e+02, 8.420e+02, 8.200e+02, 8.380e+02,\n",
       "        8.150e+02, 8.040e+02, 7.790e+02, 7.670e+02, 7.130e+02, 7.070e+02,\n",
       "        6.800e+02, 6.410e+02, 6.610e+02, 6.190e+02, 5.850e+02, 6.290e+02,\n",
       "        5.880e+02, 6.050e+02, 5.640e+02, 5.540e+02, 4.830e+02, 4.600e+02,\n",
       "        4.950e+02, 4.390e+02, 4.210e+02, 4.030e+02, 4.100e+02, 3.640e+02,\n",
       "        3.660e+02, 3.640e+02, 3.510e+02, 3.080e+02, 3.130e+02, 3.090e+02,\n",
       "        2.680e+02, 2.550e+02, 2.570e+02, 2.550e+02, 2.410e+02, 2.360e+02,\n",
       "        2.080e+02, 2.000e+02, 1.670e+02, 2.020e+02, 1.590e+02, 1.480e+02,\n",
       "        1.560e+02, 1.310e+02, 1.440e+02, 1.110e+02, 1.060e+02, 1.190e+02,\n",
       "        9.300e+01, 1.050e+02, 8.800e+01, 8.200e+01, 9.400e+01, 7.700e+01,\n",
       "        8.100e+01, 6.600e+01, 6.600e+01, 5.200e+01, 6.600e+01, 4.200e+01,\n",
       "        5.100e+01, 3.500e+01, 3.800e+01, 4.300e+01, 4.000e+01, 3.500e+01,\n",
       "        3.700e+01, 2.700e+01, 1.900e+01, 2.900e+01, 1.900e+01, 1.000e+01,\n",
       "        1.400e+01, 1.600e+01, 1.200e+01, 1.100e+01, 9.000e+00, 1.200e+01,\n",
       "        1.500e+01, 1.200e+01, 7.000e+00, 9.000e+00, 1.100e+01, 8.000e+00,\n",
       "        4.000e+00, 9.000e+00, 4.000e+00, 7.000e+00, 7.000e+00, 3.000e+00,\n",
       "        1.000e+00, 3.000e+00, 3.000e+00, 0.000e+00, 2.000e+00, 0.000e+00,\n",
       "        2.000e+00, 4.000e+00, 0.000e+00, 1.000e+00, 2.000e+00, 2.000e+00,\n",
       "        0.000e+00, 2.000e+00, 1.000e+00, 0.000e+00, 0.000e+00, 0.000e+00,\n",
       "        0.000e+00, 0.000e+00, 0.000e+00, 0.000e+00, 0.000e+00, 0.000e+00,\n",
       "        1.000e+00, 0.000e+00, 0.000e+00, 0.000e+00, 0.000e+00, 0.000e+00,\n",
       "        0.000e+00, 0.000e+00, 0.000e+00, 0.000e+00, 0.000e+00, 0.000e+00,\n",
       "        1.000e+00, 0.000e+00, 0.000e+00, 0.000e+00, 0.000e+00, 0.000e+00,\n",
       "        0.000e+00, 0.000e+00, 0.000e+00, 0.000e+00, 1.000e+00]),\n",
       " array([-32.56435249, -32.28280904, -32.00126558, -31.71972213,\n",
       "        -31.43817868, -31.15663523, -30.87509178, -30.59354832,\n",
       "        -30.31200487, -30.03046142, -29.74891797, -29.46737451,\n",
       "        -29.18583106, -28.90428761, -28.62274416, -28.3412007 ,\n",
       "        -28.05965725, -27.7781138 , -27.49657035, -27.21502689,\n",
       "        -26.93348344, -26.65193999, -26.37039654, -26.08885308,\n",
       "        -25.80730963, -25.52576618, -25.24422273, -24.96267928,\n",
       "        -24.68113582, -24.39959237, -24.11804892, -23.83650547,\n",
       "        -23.55496201, -23.27341856, -22.99187511, -22.71033166,\n",
       "        -22.4287882 , -22.14724475, -21.8657013 , -21.58415785,\n",
       "        -21.30261439, -21.02107094, -20.73952749, -20.45798404,\n",
       "        -20.17644059, -19.89489713, -19.61335368, -19.33181023,\n",
       "        -19.05026678, -18.76872332, -18.48717987, -18.20563642,\n",
       "        -17.92409297, -17.64254951, -17.36100606, -17.07946261,\n",
       "        -16.79791916, -16.5163757 , -16.23483225, -15.9532888 ,\n",
       "        -15.67174535, -15.39020189, -15.10865844, -14.82711499,\n",
       "        -14.54557154, -14.26402809, -13.98248463, -13.70094118,\n",
       "        -13.41939773, -13.13785428, -12.85631082, -12.57476737,\n",
       "        -12.29322392, -12.01168047, -11.73013701, -11.44859356,\n",
       "        -11.16705011, -10.88550666, -10.6039632 , -10.32241975,\n",
       "        -10.0408763 ,  -9.75933285,  -9.47778939,  -9.19624594,\n",
       "         -8.91470249,  -8.63315904,  -8.35161559,  -8.07007213,\n",
       "         -7.78852868,  -7.50698523,  -7.22544178,  -6.94389832,\n",
       "         -6.66235487,  -6.38081142,  -6.09926797,  -5.81772451,\n",
       "         -5.53618106,  -5.25463761,  -4.97309416,  -4.6915507 ,\n",
       "         -4.41000725,  -4.1284638 ,  -3.84692035,  -3.56537689,\n",
       "         -3.28383344,  -3.00228999,  -2.72074654,  -2.43920309,\n",
       "         -2.15765963,  -1.87611618,  -1.59457273,  -1.31302928,\n",
       "         -1.03148582,  -0.74994237,  -0.46839892,  -0.18685547,\n",
       "          0.09468799,   0.37623144,   0.65777489,   0.93931834,\n",
       "          1.2208618 ,   1.50240525,   1.7839487 ,   2.06549215,\n",
       "          2.34703561,   2.62857906,   2.91012251,   3.19166596,\n",
       "          3.47320941,   3.75475287,   4.03629632,   4.31783977,\n",
       "          4.59938322,   4.88092668,   5.16247013,   5.44401358,\n",
       "          5.72555703,   6.00710049,   6.28864394,   6.57018739,\n",
       "          6.85173084,   7.1332743 ,   7.41481775,   7.6963612 ,\n",
       "          7.97790465,   8.2594481 ,   8.54099156,   8.82253501,\n",
       "          9.10407846,   9.38562191,   9.66716537,   9.94870882,\n",
       "         10.23025227,  10.51179572,  10.79333918,  11.07488263,\n",
       "         11.35642608,  11.63796953,  11.91951299,  12.20105644,\n",
       "         12.48259989,  12.76414334,  13.0456868 ,  13.32723025,\n",
       "         13.6087737 ,  13.89031715,  14.1718606 ,  14.45340406,\n",
       "         14.73494751,  15.01649096,  15.29803441,  15.57957787,\n",
       "         15.86112132,  16.14266477,  16.42420822,  16.70575168,\n",
       "         16.98729513,  17.26883858,  17.55038203,  17.83192549,\n",
       "         18.11346894,  18.39501239,  18.67655584,  18.9580993 ,\n",
       "         19.23964275,  19.5211862 ,  19.80272965,  20.0842731 ,\n",
       "         20.36581656,  20.64736001,  20.92890346,  21.21044691,\n",
       "         21.49199037,  21.77353382,  22.05507727,  22.33662072,\n",
       "         22.61816418,  22.89970763,  23.18125108,  23.46279453,\n",
       "         23.74433799,  24.02588144,  24.30742489,  24.58896834,\n",
       "         24.8705118 ,  25.15205525,  25.4335987 ,  25.71514215,\n",
       "         25.9966856 ,  26.27822906,  26.55977251,  26.84131596,\n",
       "         27.12285941,  27.40440287,  27.68594632,  27.96748977,\n",
       "         28.24903322,  28.53057668,  28.81212013,  29.09366358,\n",
       "         29.37520703,  29.65675049,  29.93829394,  30.21983739,\n",
       "         30.50138084,  30.7829243 ,  31.06446775,  31.3460112 ,\n",
       "         31.62755465,  31.9090981 ,  32.19064156,  32.47218501,\n",
       "         32.75372846,  33.03527191,  33.31681537,  33.59835882,\n",
       "         33.87990227,  34.16144572,  34.44298918,  34.72453263,\n",
       "         35.00607608,  35.28761953,  35.56916299,  35.85070644,\n",
       "         36.13224989,  36.41379334,  36.69533679,  36.97688025,\n",
       "         37.2584237 ,  37.53996715,  37.8215106 ,  38.10305406,\n",
       "         38.38459751,  38.66614096,  38.94768441,  39.22922787,\n",
       "         39.51077132,  39.79231477,  40.07385822,  40.35540168,\n",
       "         40.63694513,  40.91848858,  41.20003203,  41.48157549,\n",
       "         41.76311894,  42.04466239,  42.32620584,  42.60774929,\n",
       "         42.88929275,  43.1708362 ,  43.45237965,  43.7339231 ,\n",
       "         44.01546656,  44.29701001,  44.57855346,  44.86009691,\n",
       "         45.14164037,  45.42318382,  45.70472727,  45.98627072,\n",
       "         46.26781418,  46.54935763,  46.83090108,  47.11244453,\n",
       "         47.39398799,  47.67553144,  47.95707489,  48.23861834,\n",
       "         48.52016179,  48.80170525,  49.0832487 ,  49.36479215,\n",
       "         49.6463356 ,  49.92787906,  50.20942251,  50.49096596,\n",
       "         50.77250941,  51.05405287,  51.33559632,  51.61713977,\n",
       "         51.89868322,  52.18022668,  52.46177013,  52.74331358,\n",
       "         53.02485703,  53.30640049,  53.58794394,  53.86948739,\n",
       "         54.15103084,  54.43257429,  54.71411775,  54.9956612 ,\n",
       "         55.27720465,  55.5587481 ,  55.84029156,  56.12183501,\n",
       "         56.40337846,  56.68492191]),\n",
       " <a list of 317 Patch objects>)"
      ]
     },
     "execution_count": 9,
     "metadata": {},
     "output_type": "execute_result"
    },
    {
     "data": {
      "image/png": "[encoded data removed]",
      "text/plain": [
       "<Figure size 432x288 with 1 Axes>"
      ]
     },
     "metadata": {
      "needs_background": "light"
     },
     "output_type": "display_data"
    }
   ],
   "source": [
    "import matplotlib.pyplot as plt\n",
    "plt.hist(s1, bins=math.ceil(math.sqrt(len(s1))))"
   ]
  },
  {
   "cell_type": "code",
   "execution_count": 10,
   "metadata": {},
   "outputs": [],
   "source": [
    "data = hist1[0]\n",
    "ent = -(data*np.log(np.abs(data))).sum()"
   ]
  },
  {
   "cell_type": "code",
   "execution_count": 11,
   "metadata": {},
   "outputs": [
    {
     "name": "stdout",
     "output_type": "stream",
     "text": [
      "45.41247648041386\n"
     ]
    }
   ],
   "source": [
    "print (ent)"
   ]
  },
  {
   "cell_type": "code",
   "execution_count": null,
   "metadata": {},
   "outputs": [],
   "source": []
  }
 ],
 "metadata": {
  "kernelspec": {
   "display_name": "Python 3",
   "language": "python",
   "name": "python3"
  },
  "language_info": {
   "codemirror_mode": {
    "name": "ipython",
    "version": 3
   },
   "file_extension": ".py",
   "mimetype": "text/x-python",
   "name": "python",
   "nbconvert_exporter": "python",
   "pygments_lexer": "ipython3",
   "version": "3.7.0"
  }
 },
 "nbformat": 4,
 "nbformat_minor": 2
}
