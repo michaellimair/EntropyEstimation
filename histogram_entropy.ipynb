{
 "cells": [
  {
   "cell_type": "code",
   "execution_count": 1,
   "metadata": {},
   "outputs": [],
   "source": [
    "import numpy as np\n",
    "import pandas as pd\n",
    "from sklearn import preprocessing\n",
    "import math"
   ]
  },
  {
   "cell_type": "code",
   "execution_count": 2,
   "metadata": {},
   "outputs": [],
   "source": [
    "df = pd.read_csv(\"click_data.csv\", header=None)"
   ]
  },
  {
   "cell_type": "code",
   "execution_count": 3,
   "metadata": {},
   "outputs": [],
   "source": [
    "df_new = np.array(df)\n",
    "# Normalize data\n",
    "for row in range(len(df_new)):\n",
    "    df_new = preprocessing.normalize(df_new)"
   ]
  },
  {
   "cell_type": "code",
   "execution_count": 6,
   "metadata": {
    "scrolled": true
   },
   "outputs": [],
   "source": [
    "ent = 0\n",
    "indivent = 0\n",
    "for j in range(len(df_new[0,:])):\n",
    "    array_col = df_new[:,j]\n",
    "    n_bins = math.ceil(math.sqrt(len(array_col)))\n",
    "    hist1 = np.histogram(array_col, bins=n_bins)\n",
    "    for i in hist1[1]:\n",
    "        ent -= i * math.log(abs(i))\n",
    "    indivent -= ent"
   ]
  },
  {
   "cell_type": "code",
   "execution_count": 7,
   "metadata": {
    "scrolled": true
   },
   "outputs": [
    {
     "name": "stdout",
     "output_type": "stream",
     "text": [
      "163.58204493752012\n"
     ]
    }
   ],
   "source": [
    "print(indivent)"
   ]
  },
  {
   "cell_type": "code",
   "execution_count": 11,
   "metadata": {},
   "outputs": [
    {
     "data": {
      "text/plain": [
       "(array([ 2.,  5.,  5., 15., 23., 39., 63., 67., 84., 85., 74., 73., 53.,\n",
       "        35., 21., 11.,  8.,  9.,  4.,  6.,  2.,  1.,  3.,  3.,  2.,  2.,\n",
       "         3.]),\n",
       " array([-0.39724035, -0.36183866, -0.32643697, -0.29103528, -0.2556336 ,\n",
       "        -0.22023191, -0.18483022, -0.14942853, -0.11402685, -0.07862516,\n",
       "        -0.04322347, -0.00782178,  0.02757991,  0.06298159,  0.09838328,\n",
       "         0.13378497,  0.16918666,  0.20458834,  0.23999003,  0.27539172,\n",
       "         0.31079341,  0.34619509,  0.38159678,  0.41699847,  0.45240016,\n",
       "         0.48780184,  0.52320353,  0.55860522]),\n",
       " <a list of 27 Patch objects>)"
      ]
     },
     "execution_count": 11,
     "metadata": {},
     "output_type": "execute_result"
    },
    {
     "data": {
      "image/png": "[encoded data removed]",
      "text/plain": [
       "<Figure size 432x288 with 1 Axes>"
      ]
     },
     "metadata": {
      "needs_background": "light"
     },
     "output_type": "display_data"
    }
   ],
   "source": [
    "import matplotlib.pyplot as plt\n",
    "plt.hist(df_new[:,0], bins=math.ceil(math.sqrt(len(df_new[:,0]))))"
   ]
  },
  {
   "cell_type": "code",
   "execution_count": null,
   "metadata": {},
   "outputs": [],
   "source": []
  }
 ],
 "metadata": {
  "kernelspec": {
   "display_name": "Python 3",
   "language": "python",
   "name": "python3"
  },
  "language_info": {
   "codemirror_mode": {
    "name": "ipython",
    "version": 3
   },
   "file_extension": ".py",
   "mimetype": "text/x-python",
   "name": "python",
   "nbconvert_exporter": "python",
   "pygments_lexer": "ipython3",
   "version": "3.7.0"
  }
 },
 "nbformat": 4,
 "nbformat_minor": 2
}
